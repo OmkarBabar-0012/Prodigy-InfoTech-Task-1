{
 "cells": [
  {
   "cell_type": "code",
   "execution_count": 19,
   "id": "b5566fe1",
   "metadata": {},
   "outputs": [
    {
     "name": "stdout",
     "output_type": "stream",
     "text": [
      "<class 'pandas.core.frame.DataFrame'>\n",
      "RangeIndex: 893 entries, 0 to 892\n",
      "Data columns (total 18 columns):\n",
      " #   Column             Non-Null Count  Dtype  \n",
      "---  ------             --------------  -----  \n",
      " 0   Unnamed: 0.1       893 non-null    int64  \n",
      " 1   Unnamed: 0         893 non-null    int64  \n",
      " 2   brand              893 non-null    object \n",
      " 3   name               893 non-null    object \n",
      " 4   price              893 non-null    int64  \n",
      " 5   spec_rating        893 non-null    float64\n",
      " 6   processor          893 non-null    object \n",
      " 7   CPU                893 non-null    object \n",
      " 8   Ram                893 non-null    object \n",
      " 9   Ram_type           893 non-null    object \n",
      " 10  ROM                893 non-null    object \n",
      " 11  ROM_type           893 non-null    object \n",
      " 12  GPU                893 non-null    object \n",
      " 13  display_size       893 non-null    float64\n",
      " 14  resolution_width   893 non-null    float64\n",
      " 15  resolution_height  893 non-null    float64\n",
      " 16  OS                 893 non-null    object \n",
      " 17  warranty           893 non-null    int64  \n",
      "dtypes: float64(4), int64(4), object(10)\n",
      "memory usage: 125.7+ KB\n"
     ]
    }
   ],
   "source": [
    "import pandas as pd\n",
    "import matplotlib.pyplot as plt\n",
    "\n",
    "df = pd.read_csv(\"C:\\\\Users\\\\91702\\\\data.csv\")\n",
    "df.head()"
   ]
  },
  {
   "cell_type": "code",
   "execution_count": 20,
   "id": "de108035",
   "metadata": {},
   "outputs": [
    {
     "name": "stdout",
     "output_type": "stream",
     "text": [
      "<class 'pandas.core.frame.DataFrame'>\n",
      "RangeIndex: 893 entries, 0 to 892\n",
      "Data columns (total 18 columns):\n",
      " #   Column             Non-Null Count  Dtype  \n",
      "---  ------             --------------  -----  \n",
      " 0   Unnamed: 0.1       893 non-null    int64  \n",
      " 1   Unnamed: 0         893 non-null    int64  \n",
      " 2   brand              893 non-null    object \n",
      " 3   name               893 non-null    object \n",
      " 4   price              893 non-null    int64  \n",
      " 5   spec_rating        893 non-null    float64\n",
      " 6   processor          893 non-null    object \n",
      " 7   CPU                893 non-null    object \n",
      " 8   Ram                893 non-null    object \n",
      " 9   Ram_type           893 non-null    object \n",
      " 10  ROM                893 non-null    object \n",
      " 11  ROM_type           893 non-null    object \n",
      " 12  GPU                893 non-null    object \n",
      " 13  display_size       893 non-null    float64\n",
      " 14  resolution_width   893 non-null    float64\n",
      " 15  resolution_height  893 non-null    float64\n",
      " 16  OS                 893 non-null    object \n",
      " 17  warranty           893 non-null    int64  \n",
      "dtypes: float64(4), int64(4), object(10)\n",
      "memory usage: 125.7+ KB\n"
     ]
    }
   ],
   "source": [
    "df.info()"
   ]
  },
  {
   "cell_type": "code",
   "execution_count": 21,
   "id": "05e749f4",
   "metadata": {},
   "outputs": [
    {
     "data": {
      "image/png": "[encoded data removed]",
      "text/plain": [
       "<Figure size 720x360 with 1 Axes>"
      ]
     },
     "metadata": {
      "needs_background": "light"
     },
     "output_type": "display_data"
    }
   ],
   "source": [
    "df = df.drop(columns=['Unnamed: 0.1', 'Unnamed: 0'])\n",
    "\n",
    "top_brands = df.groupby('brand')['price'].mean().sort_values(ascending=False).head(10).reset_index()\n",
    "\n",
    "plt.figure(figsize=(10, 5))\n",
    "plt.bar(top_brands['brand'], top_brands['price'], color=\"green\")\n",
    "plt.xticks(rotation=90)\n",
    "plt.title(\"Top 10 Brands by Average Price\")\n",
    "plt.xlabel(\"Brand\")\n",
    "plt.ylabel(\"Average Price\")\n",
    "plt.show()"
   ]
  },
  {
   "cell_type": "code",
   "execution_count": null,
   "id": "1f00a87f",
   "metadata": {},
   "outputs": [],
   "source": []
  }
 ],
 "metadata": {
  "kernelspec": {
   "display_name": "Python 3 (ipykernel)",
   "language": "python",
   "name": "python3"
  },
  "language_info": {
   "codemirror_mode": {
    "name": "ipython",
    "version": 3
   },
   "file_extension": ".py",
   "mimetype": "text/x-python",
   "name": "python",
   "nbconvert_exporter": "python",
   "pygments_lexer": "ipython3",
   "version": "3.9.12"
  }
 },
 "nbformat": 4,
 "nbformat_minor": 5
}
